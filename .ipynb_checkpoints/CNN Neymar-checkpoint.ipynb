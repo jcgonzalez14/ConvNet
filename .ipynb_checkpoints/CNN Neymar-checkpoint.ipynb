{
 "cells": [
  {
   "cell_type": "markdown",
   "metadata": {},
   "source": [
    "# CNN Facial Recognition"
   ]
  },
  {
   "cell_type": "markdown",
   "metadata": {},
   "source": [
    "Hey guys, the Stats Whisper is back with another task at hand. This time we will be using a convulution neural network to resolve a doopleganger debate. \n",
    "\n",
    "So in my early adulthood life, I got a lot (just a few actually) that I looked like the Brazilian soccer superstar, Neymar. Now believe me or not, but in one instance, a guy actually came up and told me that if he could take a picture with me and tell his friends that he actually meet Neymar.\n",
    "\n",
    "Then, I grew a beard and now people say I look like a lesser known soccer player (and less talented) Rafinha who plays for Barcelona. \n",
    "\n",
    "Of course, I would prefer to be Neymar since he is the more successful and more talented of all the options but in this case we can actually let simple math and statistcs decide this arguement. "
   ]
  },
  {
   "cell_type": "code",
   "execution_count": null,
   "metadata": {},
   "outputs": [],
   "source": [
    "import keras\n",
    "from keras.models import Sequential,Input,Model\n",
    "from keras import layers\n",
    "from keras.layers import Dense, Flatten,Input,Dropout,Activation,Conv2D"
   ]
  },
  {
   "cell_type": "code",
   "execution_count": 4,
   "metadata": {},
   "outputs": [],
   "source": [
    "from keras_vggface.vggface import VGGFace"
   ]
  },
  {
   "cell_type": "code",
   "execution_count": null,
   "metadata": {},
   "outputs": [],
   "source": [
    "base_model = VGGFace(include_top=False, input_shape=(125, 94, 3), pooling='max')\n",
    "\n",
    "for layer in base_model.layers:\n",
    "    layer.trainable = False\n",
    "\n",
    "    \n",
    "last_layer = base_model.get_layer('pool5').output\n",
    "x = Flatten(name='flatten')(last_layer)\n",
    "#x = Dense(hidden_dim, activation='relu')(x)\n",
    "x=Dropout(0.5)(x)\n",
    "x = Dense(hidden_dim, activation='relu')(x)\n",
    "out = Dense(n_classes1, activation='softmax')(x)\n",
    "custom_vgg_model = Model(base_model.input, out)"
   ]
  }
 ],
 "metadata": {
  "kernelspec": {
   "display_name": "Python 3",
   "language": "python",
   "name": "python3"
  },
  "language_info": {
   "codemirror_mode": {
    "name": "ipython",
    "version": 3
   },
   "file_extension": ".py",
   "mimetype": "text/x-python",
   "name": "python",
   "nbconvert_exporter": "python",
   "pygments_lexer": "ipython3",
   "version": "3.6.1"
  }
 },
 "nbformat": 4,
 "nbformat_minor": 2
}
