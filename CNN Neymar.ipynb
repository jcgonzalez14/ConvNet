{
 "cells": [
  {
   "cell_type": "markdown",
   "metadata": {},
   "source": [
    "# CNN Facial Recognition"
   ]
  },
  {
   "cell_type": "markdown",
   "metadata": {},
   "source": [
    "Hey guys, the Stats Whisper is back with another task at hand. This time we will be using a convulution neural network to resolve a doopleganger debate. \n",
    "\n",
    "So in my early adulthood life, I got a lot (just a few actually) that I looked like the Brazilian soccer superstar, Neymar. Now believe me or not, but in one instance, a guy actually came up and told me that if he could take a picture with me and tell his friends that he actually meet Neymar.\n",
    "\n",
    "Then, I grew a beard and now people say I look like a lesser known soccer player (and less talented) Rafinha who plays for Barcelona. \n",
    "\n",
    "Of course, I would prefer to be Neymar since he is the more successful and more talented of all the options but in this case we can actually let simple math and statistcs decide this arguement. "
   ]
  },
  {
   "cell_type": "code",
   "execution_count": null,
   "metadata": {},
   "outputs": [],
   "source": []
  }
 ],
 "metadata": {
  "kernelspec": {
   "display_name": "Python 3",
   "language": "python",
   "name": "python3"
  },
  "language_info": {
   "codemirror_mode": {
    "name": "ipython",
    "version": 3
   },
   "file_extension": ".py",
   "mimetype": "text/x-python",
   "name": "python",
   "nbconvert_exporter": "python",
   "pygments_lexer": "ipython3",
   "version": "3.6.1"
  }
 },
 "nbformat": 4,
 "nbformat_minor": 2
}
